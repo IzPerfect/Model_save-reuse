{
 "cells": [
  {
   "cell_type": "code",
   "execution_count": 1,
   "metadata": {},
   "outputs": [
    {
     "name": "stdout",
     "output_type": "stream",
     "text": [
      "1.4.0\n"
     ]
    }
   ],
   "source": [
    "import tensorflow as tf\n",
    "import numpy as np\n",
    "import time\n",
    "import os\n",
    "\n",
    "print(tf.__version__)"
   ]
  },
  {
   "cell_type": "code",
   "execution_count": 2,
   "metadata": {},
   "outputs": [
    {
     "name": "stdout",
     "output_type": "stream",
     "text": [
      "x_data : \n",
      " [[ 0.  0.]\n",
      " [ 1.  0.]\n",
      " [ 0.  1.]\n",
      " [ 1.  1.]]\n",
      "y_data : \n",
      " [[ 0.]\n",
      " [ 1.]\n",
      " [ 1.]\n",
      " [ 0.]]\n"
     ]
    }
   ],
   "source": [
    "start_time = time.time()\n",
    "tf.set_random_seed(180508)  \n",
    "learning_rate = 0.01\n",
    "\n",
    "cwd = os.getcwd() # get the current path\n",
    "path = '/data_set'\n",
    "file_name = ['/x_data.csv', '/y_data.csv']\n",
    "x_data = np.loadtxt(cwd + path + file_name[0], delimiter = ',', dtype = 'float32')\n",
    "y_data = np.loadtxt(cwd + path + file_name[1], delimiter = ',', dtype = 'float32')\n",
    "y_data = y_data.reshape(-1,1)\n",
    "# xor data\n",
    "print('x_data : \\n', x_data)\n",
    "print('y_data : \\n', y_data)"
   ]
  },
  {
   "cell_type": "code",
   "execution_count": 3,
   "metadata": {},
   "outputs": [],
   "source": [
    "X = tf.placeholder(tf.float32, [None, 2])\n",
    "Y = tf.placeholder(tf.float32, [None, 1])\n",
    "\n",
    "W1 = tf.Variable(tf.random_normal([2, 10]), name='weight1')\n",
    "b1 = tf.Variable(tf.random_normal([10]), name='bias1')\n",
    "l1 = tf.sigmoid(tf.matmul(X, W1) + b1)\n",
    "\n",
    "W2 = tf.Variable(tf.random_normal([10, 20]), name='weight2')\n",
    "b2 = tf.Variable(tf.random_normal([20]), name='bias2')\n",
    "l2 = tf.sigmoid(tf.matmul(l1, W2) + b2)\n",
    "\n",
    "W3 = tf.Variable(tf.random_normal([20, 30]), name='weight3')\n",
    "b3 = tf.Variable(tf.random_normal([30]), name='bias3')\n",
    "\n",
    "hypothesis = tf.sigmoid(tf.matmul(l2, W3) + b3)\n",
    "\n",
    "# cost\n",
    "cost = -tf.reduce_mean(Y * tf.log(hypothesis) + (1 - Y) *\n",
    "                       tf.log(1 - hypothesis))\n",
    "# minimize the cost\n",
    "optimizer = tf.train.AdamOptimizer(learning_rate=learning_rate).minimize(cost)\n",
    "\n",
    "# Accuracy, hypothesis is true if hypothesis > 0.5\n",
    "predicted = tf.cast(hypothesis > 0.5, dtype=tf.float32)\n",
    "accuracy = tf.reduce_mean(tf.cast(tf.equal(predicted, Y), dtype=tf.float32))"
   ]
  },
  {
   "cell_type": "code",
   "execution_count": 4,
   "metadata": {},
   "outputs": [],
   "source": [
    "# save\n",
    "save_dir = \"xor_weights/\" # path where you want to save\n",
    "saver = tf.train.Saver()\n",
    "\n",
    "if not os.path.exists(save_dir): # if there is no exist, make the path\n",
    "    os.makedirs(save_dir)\n",
    "\n",
    "# Initialize TensorFlow variables\n",
    "init = tf.global_variables_initializer()\n",
    "sess = tf.Session()\n",
    "sess.run(init)"
   ]
  },
  {
   "cell_type": "code",
   "execution_count": 5,
   "metadata": {},
   "outputs": [
    {
     "name": "stdout",
     "output_type": "stream",
     "text": [
      "cost : 1.6301352977752686\n",
      "File saved :  xor_weights//xor_weights.ckpt-0\n",
      "cost : 0.0698237270116806\n",
      "File saved :  xor_weights//xor_weights.ckpt-200\n",
      "cost : 0.006171106360852718\n",
      "File saved :  xor_weights//xor_weights.ckpt-400\n",
      "cost : 0.0025257847737520933\n",
      "File saved :  xor_weights//xor_weights.ckpt-600\n",
      "cost : 0.0014304976211860776\n",
      "File saved :  xor_weights//xor_weights.ckpt-800\n",
      "cost : 0.0009353220229968429\n",
      "File saved :  xor_weights//xor_weights.ckpt-1000\n",
      "총 걸린시간 : 3.6486740112304688\n"
     ]
    }
   ],
   "source": [
    "for step in range(1001):\n",
    "    c,_ = sess.run([cost, optimizer], feed_dict={X: x_data, Y: y_data})\n",
    "    if step % 200 == 0:\n",
    "        print('cost : {}'.format(c))\n",
    "        \n",
    "        #save\n",
    "        save_path = saver.save(sess, save_dir + '/xor_weights.ckpt-' + str(step))\n",
    "        print('File saved : ', save_path)\n",
    "end_time = time.time()\n",
    "print(\"총 걸린시간 : {}\".format(end_time-start_time))   "
   ]
  },
  {
   "cell_type": "code",
   "execution_count": 6,
   "metadata": {},
   "outputs": [
    {
     "name": "stdout",
     "output_type": "stream",
     "text": [
      "ACC 1.0\n"
     ]
    }
   ],
   "source": [
    "acc = sess.run(accuracy, feed_dict={X: x_data, Y: y_data})\n",
    "print('ACC {}'.format(acc))\n"
   ]
  }
 ],
 "metadata": {
  "kernelspec": {
   "display_name": "Python 3",
   "language": "python",
   "name": "python3"
  },
  "language_info": {
   "codemirror_mode": {
    "name": "ipython",
    "version": 3
   },
   "file_extension": ".py",
   "mimetype": "text/x-python",
   "name": "python",
   "nbconvert_exporter": "python",
   "pygments_lexer": "ipython3",
   "version": "3.5.4"
  }
 },
 "nbformat": 4,
 "nbformat_minor": 2
}
